{
  "nbformat": 4,
  "nbformat_minor": 0,
  "metadata": {
    "colab": {
      "provenance": []
    },
    "kernelspec": {
      "name": "python3",
      "display_name": "Python 3"
    },
    "language_info": {
      "name": "python"
    }
  },
  "cells": [
    {
      "cell_type": "markdown",
      "source": [
        "# 🎥 Demonstration: Chat with Your Course Videos (RAG System)\n",
        "\n",
        "\n",
        "This notebook shows sample questions asked to our RAG system, with the corresponding retrieved video clips.\n",
        "Videos are hosted on Google Drive and displayed directly here.\n",
        "\n"
      ],
      "metadata": {
        "id": "0UmrOkfYwVLp"
      }
    },
    {
      "cell_type": "code",
      "source": [
        "# Install PyDrive if not already installed\n",
        "!pip install -U -q PyDrive\n"
      ],
      "metadata": {
        "id": "V7CTHIUeweis"
      },
      "execution_count": 6,
      "outputs": []
    },
    {
      "cell_type": "code",
      "source": [
        "# Install PyDrive if needed (usually not needed on Colab)\n",
        "!pip install -U -q PyDrive\n",
        "\n",
        "from IPython.display import Video, display\n",
        "from google.colab import drive\n",
        "\n",
        "# Mount Google Drive\n",
        "drive.mount('/content/drive')\n",
        "\n"
      ],
      "metadata": {
        "id": "4v7zbhJvwuqe",
        "colab": {
          "base_uri": "https://localhost:8080/"
        },
        "outputId": "0265d9df-b412-4667-9814-44d00779e1a7"
      },
      "execution_count": 7,
      "outputs": [
        {
          "output_type": "stream",
          "name": "stdout",
          "text": [
            "Mounted at /content/drive\n"
          ]
        }
      ]
    },
    {
      "cell_type": "markdown",
      "source": [],
      "metadata": {
        "id": "zdPGL8XS8KZx"
      }
    },
    {
      "cell_type": "markdown",
      "source": [
        "## Example 1: \"Explain how ResNets work\"\n"
      ],
      "metadata": {
        "id": "gmFd10ZfwjRV"
      }
    },
    {
      "cell_type": "code",
      "source": [
        "# Display the ResNets clip\n",
        "display(Video(\"/content/drive/MyDrive/RAG_chat_with_your_course_videos/clip_resnets.mp4\", embed=True))"
      ],
      "metadata": {
        "colab": {
          "base_uri": "https://localhost:8080/",
          "height": 171
        },
        "id": "5lU0LvN78RQj",
        "outputId": "c10adb81-7659-4a39-dde1-ab5e2b22f4d3"
      },
      "execution_count": 11,
      "outputs": [
        {
          "output_type": "display_data",
          "data": {
            "text/plain": [
              "<IPython.core.display.Video object>"
            ],
            "text/html": [
              "<video controls  >\n",
              " <source src=\"data:None;base64,/content/drive/MyDrive/RAG_chat_with_your_course_videos/clip_resnets.mp4\" type=\"None\">\n",
              " Your browser does not support the video tag.\n",
              " </video>"
            ]
          },
          "metadata": {}
        }
      ]
    },
    {
      "cell_type": "markdown",
      "source": [
        "## Example 2: \"Explain the advantages of CNNs over fully connected networks?\"\n"
      ],
      "metadata": {
        "id": "1RQWW37jw2WW"
      }
    },
    {
      "cell_type": "code",
      "source": [
        "# Display the CNN vs FC clip\n",
        "display(Video(\"/content/drive/MyDrive/RAG_chat_with_your_course_videos/clip_cnn_vs_fc.mp4\", embed=True))"
      ],
      "metadata": {
        "id": "j0-yLtT1xS4c",
        "colab": {
          "base_uri": "https://localhost:8080/",
          "height": 171
        },
        "outputId": "d82cb34a-fa24-4899-badd-6b395367c630"
      },
      "execution_count": 12,
      "outputs": [
        {
          "output_type": "display_data",
          "data": {
            "text/plain": [
              "<IPython.core.display.Video object>"
            ],
            "text/html": [
              "<video controls  >\n",
              " <source src=\"data:None;base64,/content/drive/MyDrive/RAG_chat_with_your_course_videos/clip_cnn_vs_fc.mp4\" type=\"None\">\n",
              " Your browser does not support the video tag.\n",
              " </video>"
            ]
          },
          "metadata": {}
        }
      ]
    },
    {
      "cell_type": "markdown",
      "source": [
        "## Example 3: \"Explain the binary cross entropy loss function\"\n"
      ],
      "metadata": {
        "id": "SzVMAmcA84pZ"
      }
    },
    {
      "cell_type": "code",
      "source": [
        "# Display the Binary Cross Entropy clip\n",
        "display(Video(\"/content/drive/MyDrive/RAG_chat_with_your_course_videos/clip_binary_cross_entropy.mp4\", embed=True))\n"
      ],
      "metadata": {
        "colab": {
          "base_uri": "https://localhost:8080/",
          "height": 171
        },
        "id": "3Sf32NKC89Re",
        "outputId": "3df30538-f2f2-4ea8-d9ee-2d229ae62618"
      },
      "execution_count": 14,
      "outputs": [
        {
          "output_type": "display_data",
          "data": {
            "text/plain": [
              "<IPython.core.display.Video object>"
            ],
            "text/html": [
              "<video controls  >\n",
              " <source src=\"data:None;base64,/content/drive/MyDrive/RAG_chat_with_your_course_videos/clip_binary_cross_entropy.mp4\" type=\"None\">\n",
              " Your browser does not support the video tag.\n",
              " </video>"
            ]
          },
          "metadata": {}
        }
      ]
    },
    {
      "cell_type": "markdown",
      "source": [
        "**Summary:**\n",
        "- Measures the difference between predicted probabilities and actual labels.\n",
        "- Penalizes incorrect binary classification predictions heavily.\n"
      ],
      "metadata": {
        "id": "F86K3fTV9B76"
      }
    }
  ]
}